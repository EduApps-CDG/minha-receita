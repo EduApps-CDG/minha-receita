{
 "cells": [
  {
   "cell_type": "markdown",
   "id": "9a2365ff",
   "metadata": {},
   "source": [
    "# Relatório sobre os dados abertos de CNPJ da Receita Federal"
   ]
  },
  {
   "cell_type": "markdown",
   "id": "e8fdad5d",
   "metadata": {},
   "source": [
    "## Carregar dados\n",
    "\n",
    "(Usar o Dask ao invés do Pandas pois os datasets são muito grandes)"
   ]
  },
  {
   "cell_type": "markdown",
   "id": "9e91000f",
   "metadata": {},
   "source": [
    "## Todas as datas devem ser válidas e no passado\n",
    "\n",
    "…"
   ]
  },
  {
   "cell_type": "markdown",
   "id": "2989c8ed",
   "metadata": {},
   "source": [
    "## Todo estabelecimento (`ESTABELE`) deve ter uma correlação nos dados da base do CNPJ (`EMPRECSV`)\n",
    "\n",
    "…"
   ]
  },
  {
   "cell_type": "markdown",
   "id": "b580f0a9",
   "metadata": {},
   "source": [
    "## Todo CNPJ base deve ter ao menos 1 estabelecimento\n",
    "\n",
    "…"
   ]
  },
  {
   "cell_type": "markdown",
   "id": "2390f81c",
   "metadata": {},
   "source": [
    "## Toda entrada do quadro societário (`SOCIOCSV`) deve ter uma correlação nos dados da _base_ do CNPJ (`EMPRECSV`)\n",
    "\n",
    "…"
   ]
  }
 ],
 "metadata": {
  "kernelspec": {
   "display_name": "Python 3 (ipykernel)",
   "language": "python",
   "name": "python3"
  },
  "language_info": {
   "codemirror_mode": {
    "name": "ipython",
    "version": 3
   },
   "file_extension": ".py",
   "mimetype": "text/x-python",
   "name": "python",
   "nbconvert_exporter": "python",
   "pygments_lexer": "ipython3",
   "version": "3.9.4"
  }
 },
 "nbformat": 4,
 "nbformat_minor": 5
}
