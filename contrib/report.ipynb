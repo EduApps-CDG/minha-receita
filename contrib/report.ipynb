{
 "cells": [
  {
   "cell_type": "markdown",
   "id": "9a2365ff",
   "metadata": {},
   "source": [
    "# Relatório sobre os dados abertos de CNPJ da Receita Federal"
   ]
  },
  {
   "cell_type": "markdown",
   "id": "e8fdad5d",
   "metadata": {},
   "source": [
    "## Carregar dados"
   ]
  },
  {
   "cell_type": "code",
   "execution_count": 1,
   "id": "9d2b0fbd",
   "metadata": {},
   "outputs": [],
   "source": [
    "from os import getcwd\n",
    "from pathlib import Path\n",
    "\n",
    "import dask.dataframe as dd\n",
    "import numpy as np\n",
    "\n",
    "\n",
    "DATA_DIR = Path(getcwd()).parent / \"data\" / \"csv\""
   ]
  },
  {
   "cell_type": "code",
   "execution_count": 2,
   "id": "f10386b8",
   "metadata": {},
   "outputs": [],
   "source": [
    "def load(dataset_type, columns):\n",
    "    files = tuple(\n",
    "        path\n",
    "        for path in DATA_DIR.glob(\"*.csv\")\n",
    "        if dataset_type in path.name\n",
    "    )\n",
    "    df = dd.read_csv(\n",
    "        files,\n",
    "        delimiter=\";\",\n",
    "        encoding=\"latin1\",\n",
    "        header=None,\n",
    "        usecols=columns.keys(),\n",
    "        dtype={key: str for key in columns.keys()},\n",
    "    )\n",
    "    df.columns = columns.values()\n",
    "    return df"
   ]
  },
  {
   "cell_type": "markdown",
   "id": "531b6658",
   "metadata": {},
   "source": [
    "### Base do CNPJ"
   ]
  },
  {
   "cell_type": "code",
   "execution_count": 3,
   "id": "995f258b",
   "metadata": {},
   "outputs": [
    {
     "data": {
      "text/html": [
       "<div>\n",
       "<style scoped>\n",
       "    .dataframe tbody tr th:only-of-type {\n",
       "        vertical-align: middle;\n",
       "    }\n",
       "\n",
       "    .dataframe tbody tr th {\n",
       "        vertical-align: top;\n",
       "    }\n",
       "\n",
       "    .dataframe thead th {\n",
       "        text-align: right;\n",
       "    }\n",
       "</style>\n",
       "<table border=\"1\" class=\"dataframe\">\n",
       "  <thead>\n",
       "    <tr style=\"text-align: right;\">\n",
       "      <th></th>\n",
       "      <th>base</th>\n",
       "    </tr>\n",
       "  </thead>\n",
       "  <tbody>\n",
       "    <tr>\n",
       "      <th>0</th>\n",
       "      <td>32066838</td>\n",
       "    </tr>\n",
       "    <tr>\n",
       "      <th>1</th>\n",
       "      <td>32066839</td>\n",
       "    </tr>\n",
       "    <tr>\n",
       "      <th>2</th>\n",
       "      <td>32066840</td>\n",
       "    </tr>\n",
       "    <tr>\n",
       "      <th>3</th>\n",
       "      <td>32066841</td>\n",
       "    </tr>\n",
       "    <tr>\n",
       "      <th>4</th>\n",
       "      <td>32066842</td>\n",
       "    </tr>\n",
       "  </tbody>\n",
       "</table>\n",
       "</div>"
      ],
      "text/plain": [
       "       base\n",
       "0  32066838\n",
       "1  32066839\n",
       "2  32066840\n",
       "3  32066841\n",
       "4  32066842"
      ]
     },
     "execution_count": 3,
     "metadata": {},
     "output_type": "execute_result"
    }
   ],
   "source": [
    "base = load(\"EMPRECSV\", {0: \"base\"})\n",
    "base.head()"
   ]
  },
  {
   "cell_type": "markdown",
   "id": "a7fee6f6",
   "metadata": {},
   "source": [
    "### Estabelecimentos"
   ]
  },
  {
   "cell_type": "code",
   "execution_count": 4,
   "id": "8f874d36",
   "metadata": {},
   "outputs": [
    {
     "data": {
      "text/html": [
       "<div>\n",
       "<style scoped>\n",
       "    .dataframe tbody tr th:only-of-type {\n",
       "        vertical-align: middle;\n",
       "    }\n",
       "\n",
       "    .dataframe tbody tr th {\n",
       "        vertical-align: top;\n",
       "    }\n",
       "\n",
       "    .dataframe thead th {\n",
       "        text-align: right;\n",
       "    }\n",
       "</style>\n",
       "<table border=\"1\" class=\"dataframe\">\n",
       "  <thead>\n",
       "    <tr style=\"text-align: right;\">\n",
       "      <th></th>\n",
       "      <th>base</th>\n",
       "      <th>ordem</th>\n",
       "      <th>digito_verificador</th>\n",
       "      <th>situacao_cadastral</th>\n",
       "      <th>data_situacao_cadastral</th>\n",
       "      <th>data_de_inicio_da_atividade</th>\n",
       "      <th>situacao_especial</th>\n",
       "      <th>data_situacao_especial</th>\n",
       "    </tr>\n",
       "  </thead>\n",
       "  <tbody>\n",
       "    <tr>\n",
       "      <th>0</th>\n",
       "      <td>13449976</td>\n",
       "      <td>0001</td>\n",
       "      <td>98</td>\n",
       "      <td>08</td>\n",
       "      <td>20180201</td>\n",
       "      <td>20110401</td>\n",
       "      <td>NaN</td>\n",
       "      <td>NaN</td>\n",
       "    </tr>\n",
       "    <tr>\n",
       "      <th>1</th>\n",
       "      <td>13449987</td>\n",
       "      <td>0001</td>\n",
       "      <td>78</td>\n",
       "      <td>08</td>\n",
       "      <td>20170629</td>\n",
       "      <td>20110401</td>\n",
       "      <td>NaN</td>\n",
       "      <td>NaN</td>\n",
       "    </tr>\n",
       "    <tr>\n",
       "      <th>2</th>\n",
       "      <td>48464523</td>\n",
       "      <td>0002</td>\n",
       "      <td>04</td>\n",
       "      <td>04</td>\n",
       "      <td>20190321</td>\n",
       "      <td>20110329</td>\n",
       "      <td>NaN</td>\n",
       "      <td>NaN</td>\n",
       "    </tr>\n",
       "    <tr>\n",
       "      <th>3</th>\n",
       "      <td>13450007</td>\n",
       "      <td>0001</td>\n",
       "      <td>57</td>\n",
       "      <td>02</td>\n",
       "      <td>20110401</td>\n",
       "      <td>20110401</td>\n",
       "      <td>NaN</td>\n",
       "      <td>NaN</td>\n",
       "    </tr>\n",
       "    <tr>\n",
       "      <th>4</th>\n",
       "      <td>01408480</td>\n",
       "      <td>0003</td>\n",
       "      <td>59</td>\n",
       "      <td>08</td>\n",
       "      <td>20180724</td>\n",
       "      <td>20110329</td>\n",
       "      <td>NaN</td>\n",
       "      <td>NaN</td>\n",
       "    </tr>\n",
       "  </tbody>\n",
       "</table>\n",
       "</div>"
      ],
      "text/plain": [
       "       base ordem digito_verificador situacao_cadastral  \\\n",
       "0  13449976  0001                 98                 08   \n",
       "1  13449987  0001                 78                 08   \n",
       "2  48464523  0002                 04                 04   \n",
       "3  13450007  0001                 57                 02   \n",
       "4  01408480  0003                 59                 08   \n",
       "\n",
       "  data_situacao_cadastral data_de_inicio_da_atividade situacao_especial  \\\n",
       "0                20180201                    20110401               NaN   \n",
       "1                20170629                    20110401               NaN   \n",
       "2                20190321                    20110329               NaN   \n",
       "3                20110401                    20110401               NaN   \n",
       "4                20180724                    20110329               NaN   \n",
       "\n",
       "  data_situacao_especial  \n",
       "0                    NaN  \n",
       "1                    NaN  \n",
       "2                    NaN  \n",
       "3                    NaN  \n",
       "4                    NaN  "
      ]
     },
     "execution_count": 4,
     "metadata": {},
     "output_type": "execute_result"
    }
   ],
   "source": [
    "venues = load(\n",
    "    \"ESTABELE\",\n",
    "    {\n",
    "        0: \"base\",\n",
    "        1: \"ordem\",\n",
    "        2: \"digito_verificador\",\n",
    "        5: \"situacao_cadastral\",\n",
    "        6: \"data_situacao_cadastral\",\n",
    "        10: \"data_de_inicio_da_atividade\",\n",
    "        28: \"situacao_especial\",\n",
    "        29: \"data_situacao_especial\",\n",
    "    },\n",
    ")\n",
    "venues.head()"
   ]
  },
  {
   "cell_type": "markdown",
   "id": "43ea9e17",
   "metadata": {},
   "source": [
    "### Quadro societário"
   ]
  },
  {
   "cell_type": "code",
   "execution_count": 5,
   "id": "bbf1d192",
   "metadata": {},
   "outputs": [
    {
     "data": {
      "text/html": [
       "<div>\n",
       "<style scoped>\n",
       "    .dataframe tbody tr th:only-of-type {\n",
       "        vertical-align: middle;\n",
       "    }\n",
       "\n",
       "    .dataframe tbody tr th {\n",
       "        vertical-align: top;\n",
       "    }\n",
       "\n",
       "    .dataframe thead th {\n",
       "        text-align: right;\n",
       "    }\n",
       "</style>\n",
       "<table border=\"1\" class=\"dataframe\">\n",
       "  <thead>\n",
       "    <tr style=\"text-align: right;\">\n",
       "      <th></th>\n",
       "      <th>base</th>\n",
       "      <th>data_de_entrada</th>\n",
       "    </tr>\n",
       "  </thead>\n",
       "  <tbody>\n",
       "    <tr>\n",
       "      <th>0</th>\n",
       "      <td>17385990</td>\n",
       "      <td>20130109</td>\n",
       "    </tr>\n",
       "    <tr>\n",
       "      <th>1</th>\n",
       "      <td>09295323</td>\n",
       "      <td>20120203</td>\n",
       "    </tr>\n",
       "    <tr>\n",
       "      <th>2</th>\n",
       "      <td>09295323</td>\n",
       "      <td>20120203</td>\n",
       "    </tr>\n",
       "    <tr>\n",
       "      <th>3</th>\n",
       "      <td>17386008</td>\n",
       "      <td>20121228</td>\n",
       "    </tr>\n",
       "    <tr>\n",
       "      <th>4</th>\n",
       "      <td>17386008</td>\n",
       "      <td>20121228</td>\n",
       "    </tr>\n",
       "  </tbody>\n",
       "</table>\n",
       "</div>"
      ],
      "text/plain": [
       "       base data_de_entrada\n",
       "0  17385990        20130109\n",
       "1  09295323        20120203\n",
       "2  09295323        20120203\n",
       "3  17386008        20121228\n",
       "4  17386008        20121228"
      ]
     },
     "execution_count": 5,
     "metadata": {},
     "output_type": "execute_result"
    }
   ],
   "source": [
    "partners = load(\"SOCIOCSV\", {0: \"base\", 5: \"data_de_entrada\"})\n",
    "partners.head()"
   ]
  },
  {
   "cell_type": "markdown",
   "id": "e0e9b56a",
   "metadata": {},
   "source": [
    "### Simples & MEI"
   ]
  },
  {
   "cell_type": "code",
   "execution_count": 6,
   "id": "ed8509f2",
   "metadata": {},
   "outputs": [
    {
     "data": {
      "text/html": [
       "<div>\n",
       "<style scoped>\n",
       "    .dataframe tbody tr th:only-of-type {\n",
       "        vertical-align: middle;\n",
       "    }\n",
       "\n",
       "    .dataframe tbody tr th {\n",
       "        vertical-align: top;\n",
       "    }\n",
       "\n",
       "    .dataframe thead th {\n",
       "        text-align: right;\n",
       "    }\n",
       "</style>\n",
       "<table border=\"1\" class=\"dataframe\">\n",
       "  <thead>\n",
       "    <tr style=\"text-align: right;\">\n",
       "      <th></th>\n",
       "      <th>base</th>\n",
       "      <th>data_de_opcao_pelo_simples</th>\n",
       "      <th>data_exclusao_do_simples</th>\n",
       "      <th>data_de_opcao_pelo_mei</th>\n",
       "      <th>data_exclusao_do_mei</th>\n",
       "    </tr>\n",
       "  </thead>\n",
       "  <tbody>\n",
       "    <tr>\n",
       "      <th>0</th>\n",
       "      <td>00000000</td>\n",
       "      <td>20070701</td>\n",
       "      <td>20070701</td>\n",
       "      <td>20090701</td>\n",
       "      <td>20090701</td>\n",
       "    </tr>\n",
       "    <tr>\n",
       "      <th>1</th>\n",
       "      <td>00000006</td>\n",
       "      <td>20180101</td>\n",
       "      <td>20191231</td>\n",
       "      <td>00000000</td>\n",
       "      <td>00000000</td>\n",
       "    </tr>\n",
       "    <tr>\n",
       "      <th>2</th>\n",
       "      <td>00000008</td>\n",
       "      <td>20140101</td>\n",
       "      <td>00000000</td>\n",
       "      <td>00000000</td>\n",
       "      <td>00000000</td>\n",
       "    </tr>\n",
       "    <tr>\n",
       "      <th>3</th>\n",
       "      <td>00000011</td>\n",
       "      <td>20070701</td>\n",
       "      <td>00000000</td>\n",
       "      <td>00000000</td>\n",
       "      <td>00000000</td>\n",
       "    </tr>\n",
       "    <tr>\n",
       "      <th>4</th>\n",
       "      <td>00000013</td>\n",
       "      <td>20090101</td>\n",
       "      <td>00000000</td>\n",
       "      <td>00000000</td>\n",
       "      <td>00000000</td>\n",
       "    </tr>\n",
       "  </tbody>\n",
       "</table>\n",
       "</div>"
      ],
      "text/plain": [
       "       base data_de_opcao_pelo_simples data_exclusao_do_simples  \\\n",
       "0  00000000                   20070701                 20070701   \n",
       "1  00000006                   20180101                 20191231   \n",
       "2  00000008                   20140101                 00000000   \n",
       "3  00000011                   20070701                 00000000   \n",
       "4  00000013                   20090101                 00000000   \n",
       "\n",
       "  data_de_opcao_pelo_mei data_exclusao_do_mei  \n",
       "0               20090701             20090701  \n",
       "1               00000000             00000000  \n",
       "2               00000000             00000000  \n",
       "3               00000000             00000000  \n",
       "4               00000000             00000000  "
      ]
     },
     "execution_count": 6,
     "metadata": {},
     "output_type": "execute_result"
    }
   ],
   "source": [
    "taxes = load(\n",
    "    \"SIMPLES\",\n",
    "    {\n",
    "        0: \"base\",\n",
    "        2: \"data_de_opcao_pelo_simples\",\n",
    "        3: \"data_exclusao_do_simples\",\n",
    "        5: \"data_de_opcao_pelo_mei\",\n",
    "        6: \"data_exclusao_do_mei\",\n",
    "    }\n",
    ")\n",
    "taxes.head()"
   ]
  },
  {
   "cell_type": "markdown",
   "id": "9e91000f",
   "metadata": {},
   "source": [
    "## Todas as datas devem ser válidas e no passado\n",
    "\n",
    "…"
   ]
  },
  {
   "cell_type": "markdown",
   "id": "2989c8ed",
   "metadata": {},
   "source": [
    "## Todo estabelecimento (`ESTABELE`) deve ter uma correlação nos dados da base do CNPJ (`EMPRECSV`)\n",
    "\n",
    "…"
   ]
  },
  {
   "cell_type": "markdown",
   "id": "b580f0a9",
   "metadata": {},
   "source": [
    "## Todo CNPJ base deve ter ao menos 1 estabelecimento\n",
    "\n",
    "…"
   ]
  },
  {
   "cell_type": "markdown",
   "id": "2390f81c",
   "metadata": {},
   "source": [
    "## Toda entrada do quadro societário (`SOCIOCSV`) deve ter uma correlação nos dados da _base_ do CNPJ (`EMPRECSV`)\n",
    "\n",
    "…"
   ]
  },
  {
   "cell_type": "markdown",
   "id": "abb249f6",
   "metadata": {},
   "source": [
    "## Toda entrada de enquadramento no Simples ou MEI (`SIMPES`) deve ter uma correlação nos dados da base do CNPJ\n",
    "\n",
    "\n",
    "…"
   ]
  }
 ],
 "metadata": {
  "kernelspec": {
   "display_name": "Python 3 (ipykernel)",
   "language": "python",
   "name": "python3"
  },
  "language_info": {
   "codemirror_mode": {
    "name": "ipython",
    "version": 3
   },
   "file_extension": ".py",
   "mimetype": "text/x-python",
   "name": "python",
   "nbconvert_exporter": "python",
   "pygments_lexer": "ipython3",
   "version": "3.9.4"
  }
 },
 "nbformat": 4,
 "nbformat_minor": 5
}
